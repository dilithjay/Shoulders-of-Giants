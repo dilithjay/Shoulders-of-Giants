{
 "cells": [
  {
   "cell_type": "code",
   "execution_count": 1,
   "metadata": {},
   "outputs": [],
   "source": [
    "langs_0_path = \"LangClasses/0.txt\"\n",
    "langs_1_path = \"LangClasses/1.txt\""
   ]
  },
  {
   "cell_type": "code",
   "execution_count": 2,
   "metadata": {},
   "outputs": [],
   "source": [
    "with open(langs_0_path, \"r\", encoding=\"utf-8\") as fp:\n",
    "    langs_0 = fp.read().strip().split(\"\\n\")\n",
    "with open(langs_1_path, \"r\", encoding=\"utf-8\") as fp:\n",
    "    langs_1 = fp.read().strip().split(\"\\n\")"
   ]
  },
  {
   "cell_type": "code",
   "execution_count": 7,
   "metadata": {},
   "outputs": [],
   "source": [
    "import shutil\n",
    "import os\n",
    "from glob import glob\n",
    "\n",
    "for lang in langs_0:\n",
    "    txt_paths = sorted(glob(f\"TXTs/{lang}/*.txt\"))\n",
    "    for txt_path in txt_paths:\n",
    "        lang = os.path.basename(os.path.dirname(txt_path))\n",
    "        pdf_path = txt_path.replace(\"TXTs\", \"PDFs\").replace(\".txt\", \".pdf\")\n",
    "        if os.path.exists(pdf_path):\n",
    "            shutil.copy(txt_path, \"LangClasses/0/\" + lang + \"_\" + os.path.basename(txt_path))\n",
    "            shutil.copy(pdf_path, \"LangClasses/0/\" + lang + \"_\" + os.path.basename(pdf_path))\n",
    "\n",
    "for lang in langs_1:\n",
    "    txt_paths = sorted(glob(f\"TXTs/{lang}/*.txt\"))\n",
    "    for txt_path in txt_paths:\n",
    "        pdf_path = txt_path.replace(\"TXTs\", \"PDFs\").replace(\".txt\", \".pdf\")\n",
    "        if os.path.exists(pdf_path):\n",
    "            shutil.copy(txt_path, \"LangClasses/1/\" + lang + \"_\" + os.path.basename(txt_path))\n",
    "            shutil.copy(pdf_path, \"LangClasses/1/\" + lang + \"_\" + os.path.basename(pdf_path))"
   ]
  },
  {
   "cell_type": "code",
   "execution_count": null,
   "metadata": {},
   "outputs": [],
   "source": []
  }
 ],
 "metadata": {
  "kernelspec": {
   "display_name": "poppler_env",
   "language": "python",
   "name": "python3"
  },
  "language_info": {
   "codemirror_mode": {
    "name": "ipython",
    "version": 3
   },
   "file_extension": ".py",
   "mimetype": "text/x-python",
   "name": "python",
   "nbconvert_exporter": "python",
   "pygments_lexer": "ipython3",
   "version": "3.12.1"
  }
 },
 "nbformat": 4,
 "nbformat_minor": 2
}
